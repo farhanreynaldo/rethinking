{
  "nbformat": 4,
  "nbformat_minor": 0,
  "metadata": {
    "colab": {
      "name": "rethinking-chapter-04.ipynb",
      "provenance": [],
      "collapsed_sections": [],
      "authorship_tag": "ABX9TyMWk647stubRQLkIakoicpR",
      "include_colab_link": true
    },
    "kernelspec": {
      "name": "python3",
      "display_name": "Python 3"
    }
  },
  "cells": [
    {
      "cell_type": "markdown",
      "metadata": {
        "id": "view-in-github",
        "colab_type": "text"
      },
      "source": [
        "<a href=\"https://colab.research.google.com/github/farhanreynaldo/rethinking/blob/master/rethinking_chapter_04.ipynb\" target=\"_parent\"><img src=\"https://colab.research.google.com/assets/colab-badge.svg\" alt=\"Open In Colab\"/></a>"
      ]
    },
    {
      "cell_type": "code",
      "metadata": {
        "id": "ukALDhI0HZEh",
        "colab_type": "code",
        "colab": {}
      },
      "source": [
        "# Load packages used in this notebook\n",
        "import os\n",
        "import json\n",
        "import shutil\n",
        "import urllib.request\n",
        "import pandas as pd"
      ],
      "execution_count": 1,
      "outputs": []
    },
    {
      "cell_type": "code",
      "metadata": {
        "id": "suIs4R9PGbK7",
        "colab_type": "code",
        "colab": {
          "base_uri": "https://localhost:8080/",
          "height": 150
        },
        "outputId": "fd00c097-c5b7-4cca-9517-c34a2b00151c"
      },
      "source": [
        "# Install package CmdStanPy\n",
        "!pip install --upgrade cmdstanpy"
      ],
      "execution_count": 2,
      "outputs": [
        {
          "output_type": "stream",
          "text": [
            "Requirement already up-to-date: cmdstanpy in /usr/local/lib/python3.6/dist-packages (0.9.62)\n",
            "Requirement already satisfied, skipping upgrade: numpy in /usr/local/lib/python3.6/dist-packages (from cmdstanpy) (1.18.5)\n",
            "Requirement already satisfied, skipping upgrade: pandas in /usr/local/lib/python3.6/dist-packages (from cmdstanpy) (1.0.5)\n",
            "Requirement already satisfied, skipping upgrade: python-dateutil>=2.6.1 in /usr/local/lib/python3.6/dist-packages (from pandas->cmdstanpy) (2.8.1)\n",
            "Requirement already satisfied, skipping upgrade: pytz>=2017.2 in /usr/local/lib/python3.6/dist-packages (from pandas->cmdstanpy) (2018.9)\n",
            "Requirement already satisfied, skipping upgrade: six>=1.5 in /usr/local/lib/python3.6/dist-packages (from python-dateutil>=2.6.1->pandas->cmdstanpy) (1.15.0)\n"
          ],
          "name": "stdout"
        }
      ]
    },
    {
      "cell_type": "code",
      "metadata": {
        "id": "YzZERvyOHjGO",
        "colab_type": "code",
        "colab": {}
      },
      "source": [
        "# Install pre-built CmdStan binary\n",
        "# (faster than compiling from source via install_cmdstan() function)\n",
        "# https://mc-stan.org/users/documentation/case-studies/jupyter_colab_notebooks_2020.html\n",
        "# https://github.com/stan-dev/example-models/blob/master/knitr/cloud-compute-2020/CmdStanPy_Example_Notebook.ipynb\n",
        "\n",
        "tgz_file = 'colab-cmdstan-2.23.0.tar.gz'\n",
        "tgz_url = 'https://github.com/stan-dev/cmdstan/releases/download/v2.23.0/colab-cmdstan-2.23.0.tar.gz'\n",
        "\n",
        "urllib.request.urlretrieve(tgz_url, tgz_file)\n",
        "shutil.unpack_archive(tgz_file)\n",
        "\n",
        "# Specify CmdStan location via environment variable\n",
        "os.environ['CMDSTAN'] = './cmdstan-2.23.0'"
      ],
      "execution_count": 3,
      "outputs": []
    },
    {
      "cell_type": "code",
      "metadata": {
        "id": "C51WqgRyHiUD",
        "colab_type": "code",
        "colab": {
          "base_uri": "https://localhost:8080/",
          "height": 36
        },
        "outputId": "bd47f3a5-d5fc-4c92-b24b-f29bae5a85e3"
      },
      "source": [
        "# Check CmdStan path\n",
        "from cmdstanpy import cmdstan_path\n",
        "cmdstan_path()"
      ],
      "execution_count": 4,
      "outputs": [
        {
          "output_type": "execute_result",
          "data": {
            "application/vnd.google.colaboratory.intrinsic+json": {
              "type": "string"
            },
            "text/plain": [
              "'./cmdstan-2.23.0'"
            ]
          },
          "metadata": {
            "tags": []
          },
          "execution_count": 4
        }
      ]
    },
    {
      "cell_type": "code",
      "metadata": {
        "id": "23SdeLWfGKR9",
        "colab_type": "code",
        "colab": {}
      },
      "source": [
        "import matplotlib.pyplot as plt\n",
        "import numpy as np\n",
        "import pandas as pd\n",
        "from cmdstanpy import CmdStanModel"
      ],
      "execution_count": 5,
      "outputs": []
    },
    {
      "cell_type": "code",
      "metadata": {
        "id": "yLa3UQgoISjL",
        "colab_type": "code",
        "colab": {}
      },
      "source": [
        "howell1_url = 'https://raw.githubusercontent.com/pymc-devs/resources/master/Rethinking_2/Data/Howell1.csv'\n",
        "df = pd.read_csv(howell1_url, sep=';', header=0).loc[lambda df: df['age'] >= 18]"
      ],
      "execution_count": 6,
      "outputs": []
    },
    {
      "cell_type": "code",
      "metadata": {
        "id": "zVS7buLxVdAv",
        "colab_type": "code",
        "colab": {}
      },
      "source": [
        "data = df.filter(['height']).to_dict(orient='list')\n",
        "data['n'] = df.shape[0]"
      ],
      "execution_count": 7,
      "outputs": []
    },
    {
      "cell_type": "code",
      "metadata": {
        "id": "oonbqvWQR5TS",
        "colab_type": "code",
        "colab": {
          "base_uri": "https://localhost:8080/",
          "height": 36
        },
        "outputId": "04567c77-7ffa-41d7-b095-68e07f1ec423"
      },
      "source": [
        "%%file m41.stan\n",
        "\n",
        "data {\n",
        "  int<lower=1> n;\n",
        "  vector[n] height;\n",
        "}\n",
        "parameters {\n",
        "  real mu;\n",
        "  real<lower=0,upper=50> sigma;\n",
        "}\n",
        "model {\n",
        "  height ~ normal(mu, sigma);\n",
        "  sigma ~ uniform(0, 50);\n",
        "  mu ~ normal(178, 20);\n",
        "}"
      ],
      "execution_count": 8,
      "outputs": [
        {
          "output_type": "stream",
          "text": [
            "Writing m41.stan\n"
          ],
          "name": "stdout"
        }
      ]
    },
    {
      "cell_type": "code",
      "metadata": {
        "id": "nqxazF62UO_N",
        "colab_type": "code",
        "colab": {
          "base_uri": "https://localhost:8080/",
          "height": 364
        },
        "outputId": "b6628461-9bb9-4fa4-e6bb-b639ffcf8a19"
      },
      "source": [
        "m41 = CmdStanModel(stan_file='m41.stan')\n",
        "m41_fit = m41.sample(data=data)\n",
        "m41_fit.summary()"
      ],
      "execution_count": 17,
      "outputs": [
        {
          "output_type": "stream",
          "text": [
            "INFO:cmdstanpy:found newer exe file, not recompiling\n",
            "INFO:cmdstanpy:compiled model file: /content/m41\n",
            "INFO:cmdstanpy:start chain 1\n",
            "INFO:cmdstanpy:start chain 2\n",
            "INFO:cmdstanpy:finish chain 1\n",
            "INFO:cmdstanpy:finish chain 2\n",
            "INFO:cmdstanpy:start chain 4\n",
            "INFO:cmdstanpy:start chain 3\n",
            "INFO:cmdstanpy:finish chain 4\n",
            "INFO:cmdstanpy:finish chain 3\n"
          ],
          "name": "stderr"
        },
        {
          "output_type": "execute_result",
          "data": {
            "text/html": [
              "<div>\n",
              "<style scoped>\n",
              "    .dataframe tbody tr th:only-of-type {\n",
              "        vertical-align: middle;\n",
              "    }\n",
              "\n",
              "    .dataframe tbody tr th {\n",
              "        vertical-align: top;\n",
              "    }\n",
              "\n",
              "    .dataframe thead th {\n",
              "        text-align: right;\n",
              "    }\n",
              "</style>\n",
              "<table border=\"1\" class=\"dataframe\">\n",
              "  <thead>\n",
              "    <tr style=\"text-align: right;\">\n",
              "      <th></th>\n",
              "      <th>Mean</th>\n",
              "      <th>MCSE</th>\n",
              "      <th>StdDev</th>\n",
              "      <th>5%</th>\n",
              "      <th>50%</th>\n",
              "      <th>95%</th>\n",
              "      <th>N_Eff</th>\n",
              "      <th>N_Eff/s</th>\n",
              "      <th>R_hat</th>\n",
              "    </tr>\n",
              "    <tr>\n",
              "      <th>name</th>\n",
              "      <th></th>\n",
              "      <th></th>\n",
              "      <th></th>\n",
              "      <th></th>\n",
              "      <th></th>\n",
              "      <th></th>\n",
              "      <th></th>\n",
              "      <th></th>\n",
              "      <th></th>\n",
              "    </tr>\n",
              "  </thead>\n",
              "  <tbody>\n",
              "    <tr>\n",
              "      <th>lp__</th>\n",
              "      <td>-895.76000</td>\n",
              "      <td>0.023976</td>\n",
              "      <td>1.021480</td>\n",
              "      <td>-897.90900</td>\n",
              "      <td>-895.4340</td>\n",
              "      <td>-894.8000</td>\n",
              "      <td>1815.14</td>\n",
              "      <td>10550.6</td>\n",
              "      <td>0.999852</td>\n",
              "    </tr>\n",
              "    <tr>\n",
              "      <th>mu</th>\n",
              "      <td>154.60500</td>\n",
              "      <td>0.007174</td>\n",
              "      <td>0.420085</td>\n",
              "      <td>153.91200</td>\n",
              "      <td>154.6040</td>\n",
              "      <td>155.2780</td>\n",
              "      <td>3428.70</td>\n",
              "      <td>19929.5</td>\n",
              "      <td>0.999430</td>\n",
              "    </tr>\n",
              "    <tr>\n",
              "      <th>sigma</th>\n",
              "      <td>7.78213</td>\n",
              "      <td>0.005300</td>\n",
              "      <td>0.294322</td>\n",
              "      <td>7.31985</td>\n",
              "      <td>7.7702</td>\n",
              "      <td>8.2769</td>\n",
              "      <td>3084.12</td>\n",
              "      <td>17926.5</td>\n",
              "      <td>0.999455</td>\n",
              "    </tr>\n",
              "  </tbody>\n",
              "</table>\n",
              "</div>"
            ],
            "text/plain": [
              "            Mean      MCSE    StdDev  ...    N_Eff  N_Eff/s     R_hat\n",
              "name                                  ...                            \n",
              "lp__  -895.76000  0.023976  1.021480  ...  1815.14  10550.6  0.999852\n",
              "mu     154.60500  0.007174  0.420085  ...  3428.70  19929.5  0.999430\n",
              "sigma    7.78213  0.005300  0.294322  ...  3084.12  17926.5  0.999455\n",
              "\n",
              "[3 rows x 9 columns]"
            ]
          },
          "metadata": {
            "tags": []
          },
          "execution_count": 17
        }
      ]
    },
    {
      "cell_type": "code",
      "metadata": {
        "id": "7mMd-dCQXydN",
        "colab_type": "code",
        "colab": {
          "base_uri": "https://localhost:8080/",
          "height": 36
        },
        "outputId": "186f23ce-9f6a-416d-bb03-5aea24a6c2e8"
      },
      "source": [
        "%%file m42.stan\n",
        "\n",
        "data {\n",
        "  int<lower=1> n;\n",
        "  vector[n] height;\n",
        "}\n",
        "\n",
        "parameters {\n",
        "  real mu;\n",
        "  real<lower=0, upper=50> sigma;\n",
        "}\n",
        "\n",
        "model {\n",
        "  height ~ normal(mu, sigma);\n",
        "  sigma ~ uniform(0, 50);\n",
        "  mu ~ normal(178, .1);\n",
        "}"
      ],
      "execution_count": 18,
      "outputs": [
        {
          "output_type": "stream",
          "text": [
            "Overwriting m42.stan\n"
          ],
          "name": "stdout"
        }
      ]
    },
    {
      "cell_type": "code",
      "metadata": {
        "id": "MQ5P5ogwX3Q1",
        "colab_type": "code",
        "colab": {
          "base_uri": "https://localhost:8080/",
          "height": 364
        },
        "outputId": "a053f9f0-64a1-4d43-d6a5-e760730a63de"
      },
      "source": [
        "m42 = CmdStanModel(stan_file='m42.stan')\n",
        "m42_fit = m42.sample(data=data)\n",
        "m42_fit.summary()"
      ],
      "execution_count": 20,
      "outputs": [
        {
          "output_type": "stream",
          "text": [
            "INFO:cmdstanpy:found newer exe file, not recompiling\n",
            "INFO:cmdstanpy:compiled model file: /content/m42\n",
            "INFO:cmdstanpy:start chain 1\n",
            "INFO:cmdstanpy:start chain 2\n",
            "INFO:cmdstanpy:finish chain 2\n",
            "INFO:cmdstanpy:start chain 3\n",
            "INFO:cmdstanpy:finish chain 1\n",
            "INFO:cmdstanpy:start chain 4\n",
            "INFO:cmdstanpy:finish chain 3\n",
            "INFO:cmdstanpy:finish chain 4\n"
          ],
          "name": "stderr"
        },
        {
          "output_type": "execute_result",
          "data": {
            "text/html": [
              "<div>\n",
              "<style scoped>\n",
              "    .dataframe tbody tr th:only-of-type {\n",
              "        vertical-align: middle;\n",
              "    }\n",
              "\n",
              "    .dataframe tbody tr th {\n",
              "        vertical-align: top;\n",
              "    }\n",
              "\n",
              "    .dataframe thead th {\n",
              "        text-align: right;\n",
              "    }\n",
              "</style>\n",
              "<table border=\"1\" class=\"dataframe\">\n",
              "  <thead>\n",
              "    <tr style=\"text-align: right;\">\n",
              "      <th></th>\n",
              "      <th>Mean</th>\n",
              "      <th>MCSE</th>\n",
              "      <th>StdDev</th>\n",
              "      <th>5%</th>\n",
              "      <th>50%</th>\n",
              "      <th>95%</th>\n",
              "      <th>N_Eff</th>\n",
              "      <th>N_Eff/s</th>\n",
              "      <th>R_hat</th>\n",
              "    </tr>\n",
              "    <tr>\n",
              "      <th>name</th>\n",
              "      <th></th>\n",
              "      <th></th>\n",
              "      <th></th>\n",
              "      <th></th>\n",
              "      <th></th>\n",
              "      <th></th>\n",
              "      <th></th>\n",
              "      <th></th>\n",
              "      <th></th>\n",
              "    </tr>\n",
              "  </thead>\n",
              "  <tbody>\n",
              "    <tr>\n",
              "      <th>lp__</th>\n",
              "      <td>-1301.5900</td>\n",
              "      <td>0.022976</td>\n",
              "      <td>1.002510</td>\n",
              "      <td>-1303.6000</td>\n",
              "      <td>-1301.280</td>\n",
              "      <td>-1300.640</td>\n",
              "      <td>1903.80</td>\n",
              "      <td>11740.0</td>\n",
              "      <td>1.000340</td>\n",
              "    </tr>\n",
              "    <tr>\n",
              "      <th>mu</th>\n",
              "      <td>177.8660</td>\n",
              "      <td>0.001624</td>\n",
              "      <td>0.100693</td>\n",
              "      <td>177.6990</td>\n",
              "      <td>177.866</td>\n",
              "      <td>178.031</td>\n",
              "      <td>3843.79</td>\n",
              "      <td>23703.1</td>\n",
              "      <td>1.000530</td>\n",
              "    </tr>\n",
              "    <tr>\n",
              "      <th>sigma</th>\n",
              "      <td>24.6037</td>\n",
              "      <td>0.016364</td>\n",
              "      <td>0.933099</td>\n",
              "      <td>23.1425</td>\n",
              "      <td>24.574</td>\n",
              "      <td>26.228</td>\n",
              "      <td>3251.44</td>\n",
              "      <td>20050.3</td>\n",
              "      <td>0.999737</td>\n",
              "    </tr>\n",
              "  </tbody>\n",
              "</table>\n",
              "</div>"
            ],
            "text/plain": [
              "            Mean      MCSE    StdDev  ...    N_Eff  N_Eff/s     R_hat\n",
              "name                                  ...                            \n",
              "lp__  -1301.5900  0.022976  1.002510  ...  1903.80  11740.0  1.000340\n",
              "mu      177.8660  0.001624  0.100693  ...  3843.79  23703.1  1.000530\n",
              "sigma    24.6037  0.016364  0.933099  ...  3251.44  20050.3  0.999737\n",
              "\n",
              "[3 rows x 9 columns]"
            ]
          },
          "metadata": {
            "tags": []
          },
          "execution_count": 20
        }
      ]
    },
    {
      "cell_type": "code",
      "metadata": {
        "id": "2F7vyDSXZamO",
        "colab_type": "code",
        "colab": {}
      },
      "source": [
        ""
      ],
      "execution_count": null,
      "outputs": []
    }
  ]
}