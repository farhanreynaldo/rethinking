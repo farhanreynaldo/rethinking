{
  "nbformat": 4,
  "nbformat_minor": 0,
  "metadata": {
    "colab": {
      "name": "rethinking-chapter-04.ipynb",
      "provenance": [],
      "collapsed_sections": [],
      "authorship_tag": "ABX9TyNexCVhzEl8ZNHk3/vqxBtR",
      "include_colab_link": true
    },
    "kernelspec": {
      "name": "python3",
      "display_name": "Python 3"
    }
  },
  "cells": [
    {
      "cell_type": "markdown",
      "metadata": {
        "id": "view-in-github",
        "colab_type": "text"
      },
      "source": [
        "<a href=\"https://colab.research.google.com/github/farhanreynaldo/rethinking/blob/master/rethinking_chapter_04.ipynb\" target=\"_parent\"><img src=\"https://colab.research.google.com/assets/colab-badge.svg\" alt=\"Open In Colab\"/></a>"
      ]
    },
    {
      "cell_type": "code",
      "metadata": {
        "id": "ukALDhI0HZEh",
        "colab_type": "code",
        "colab": {}
      },
      "source": [
        "# Load packages used in this notebook\n",
        "import os\n",
        "import json\n",
        "import shutil\n",
        "import urllib.request\n",
        "import pandas as pd"
      ],
      "execution_count": 1,
      "outputs": []
    },
    {
      "cell_type": "code",
      "metadata": {
        "id": "suIs4R9PGbK7",
        "colab_type": "code",
        "colab": {
          "base_uri": "https://localhost:8080/",
          "height": 301
        },
        "outputId": "43c242e5-6a19-48db-f153-8797111a7bbe"
      },
      "source": [
        "# Install package CmdStanPy\n",
        "!pip install --upgrade cmdstanpy"
      ],
      "execution_count": 2,
      "outputs": [
        {
          "output_type": "stream",
          "text": [
            "Collecting cmdstanpy\n",
            "\u001b[?25l  Downloading https://files.pythonhosted.org/packages/70/29/c1b5a9696b40b5649af9b31e30091a205bc89d6ddbfb914b7e39d96bbfbf/cmdstanpy-0.9.62-py3-none-any.whl (40kB)\n",
            "\r\u001b[K     |████████                        | 10kB 21.8MB/s eta 0:00:01\r\u001b[K     |████████████████▏               | 20kB 6.0MB/s eta 0:00:01\r\u001b[K     |████████████████████████▎       | 30kB 6.9MB/s eta 0:00:01\r\u001b[K     |████████████████████████████████| 40kB 2.8MB/s \n",
            "\u001b[?25hRequirement already satisfied, skipping upgrade: pandas in /usr/local/lib/python3.6/dist-packages (from cmdstanpy) (1.0.5)\n",
            "Requirement already satisfied, skipping upgrade: numpy in /usr/local/lib/python3.6/dist-packages (from cmdstanpy) (1.18.5)\n",
            "Requirement already satisfied, skipping upgrade: pytz>=2017.2 in /usr/local/lib/python3.6/dist-packages (from pandas->cmdstanpy) (2018.9)\n",
            "Requirement already satisfied, skipping upgrade: python-dateutil>=2.6.1 in /usr/local/lib/python3.6/dist-packages (from pandas->cmdstanpy) (2.8.1)\n",
            "Requirement already satisfied, skipping upgrade: six>=1.5 in /usr/local/lib/python3.6/dist-packages (from python-dateutil>=2.6.1->pandas->cmdstanpy) (1.15.0)\n",
            "\u001b[31mERROR: fbprophet 0.6 has requirement cmdstanpy==0.4, but you'll have cmdstanpy 0.9.62 which is incompatible.\u001b[0m\n",
            "Installing collected packages: cmdstanpy\n",
            "  Found existing installation: cmdstanpy 0.4.0\n",
            "    Uninstalling cmdstanpy-0.4.0:\n",
            "      Successfully uninstalled cmdstanpy-0.4.0\n",
            "Successfully installed cmdstanpy-0.9.62\n"
          ],
          "name": "stdout"
        }
      ]
    },
    {
      "cell_type": "code",
      "metadata": {
        "id": "YzZERvyOHjGO",
        "colab_type": "code",
        "colab": {}
      },
      "source": [
        "# Install pre-built CmdStan binary\n",
        "# (faster than compiling from source via install_cmdstan() function)\n",
        "# https://mc-stan.org/users/documentation/case-studies/jupyter_colab_notebooks_2020.html\n",
        "# https://github.com/stan-dev/example-models/blob/master/knitr/cloud-compute-2020/CmdStanPy_Example_Notebook.ipynb\n",
        "\n",
        "tgz_file = 'colab-cmdstan-2.23.0.tar.gz'\n",
        "tgz_url = 'https://github.com/stan-dev/cmdstan/releases/download/v2.23.0/colab-cmdstan-2.23.0.tar.gz'\n",
        "\n",
        "urllib.request.urlretrieve(tgz_url, tgz_file)\n",
        "shutil.unpack_archive(tgz_file)\n",
        "\n",
        "# Specify CmdStan location via environment variable\n",
        "os.environ['CMDSTAN'] = './cmdstan-2.23.0'"
      ],
      "execution_count": 3,
      "outputs": []
    },
    {
      "cell_type": "code",
      "metadata": {
        "id": "C51WqgRyHiUD",
        "colab_type": "code",
        "colab": {
          "base_uri": "https://localhost:8080/",
          "height": 36
        },
        "outputId": "013934aa-d308-4d1d-ea2a-6d313c7b0c6c"
      },
      "source": [
        "# Check CmdStan path\n",
        "from cmdstanpy import cmdstan_path\n",
        "cmdstan_path()"
      ],
      "execution_count": 4,
      "outputs": [
        {
          "output_type": "execute_result",
          "data": {
            "application/vnd.google.colaboratory.intrinsic+json": {
              "type": "string"
            },
            "text/plain": [
              "'./cmdstan-2.23.0'"
            ]
          },
          "metadata": {
            "tags": []
          },
          "execution_count": 4
        }
      ]
    },
    {
      "cell_type": "code",
      "metadata": {
        "id": "23SdeLWfGKR9",
        "colab_type": "code",
        "colab": {}
      },
      "source": [
        "import matplotlib.pyplot as plt\n",
        "import numpy as np\n",
        "import pandas as pd\n",
        "from cmdstanpy import CmdStanModel"
      ],
      "execution_count": 5,
      "outputs": []
    },
    {
      "cell_type": "code",
      "metadata": {
        "id": "yLa3UQgoISjL",
        "colab_type": "code",
        "colab": {}
      },
      "source": [
        "howell1_url = 'https://raw.githubusercontent.com/pymc-devs/resources/master/Rethinking_2/Data/Howell1.csv'\n",
        "df = pd.read_csv(howell1_url, sep=';', header=0).loc[lambda df: df['age'] >= 18]"
      ],
      "execution_count": 39,
      "outputs": []
    },
    {
      "cell_type": "code",
      "metadata": {
        "id": "zVS7buLxVdAv",
        "colab_type": "code",
        "colab": {}
      },
      "source": [
        "data = df.filter(['height']).to_dict(orient='list')\n",
        "data['n'] = df.shape[0]"
      ],
      "execution_count": 40,
      "outputs": []
    },
    {
      "cell_type": "code",
      "metadata": {
        "id": "oonbqvWQR5TS",
        "colab_type": "code",
        "colab": {
          "base_uri": "https://localhost:8080/",
          "height": 36
        },
        "outputId": "73e17572-e154-4f8c-bce0-796084d75364"
      },
      "source": [
        "%%file m41.stan\n",
        "\n",
        "data {\n",
        "  int<lower=1> n;\n",
        "  vector[n] height;\n",
        "}\n",
        "parameters {\n",
        "  real mu;\n",
        "  real<lower=0,upper=50> sigma;\n",
        "}\n",
        "model {\n",
        "  height ~ normal(mu, sigma);\n",
        "  sigma ~ uniform(0, 50);\n",
        "  mu ~ normal(178, 20);\n",
        "}"
      ],
      "execution_count": 41,
      "outputs": [
        {
          "output_type": "stream",
          "text": [
            "Overwriting stan_program.stan\n"
          ],
          "name": "stdout"
        }
      ]
    },
    {
      "cell_type": "code",
      "metadata": {
        "id": "nqxazF62UO_N",
        "colab_type": "code",
        "colab": {
          "base_uri": "https://localhost:8080/",
          "height": 382
        },
        "outputId": "ed9176c9-524c-4aca-b0b0-a12a67150171"
      },
      "source": [
        "m41 = CmdStanModel(stan_file='m41.stan')\n",
        "fit = m41.sample(data=data)\n",
        "fit.summary()"
      ],
      "execution_count": 44,
      "outputs": [
        {
          "output_type": "stream",
          "text": [
            "INFO:cmdstanpy:compiling stan program, exe file: /content/stan_program\n",
            "INFO:cmdstanpy:compiler options: stanc_options=None, cpp_options=None\n",
            "INFO:cmdstanpy:compiled model file: /content/stan_program\n",
            "INFO:cmdstanpy:start chain 1\n",
            "INFO:cmdstanpy:start chain 2\n",
            "INFO:cmdstanpy:finish chain 1\n",
            "INFO:cmdstanpy:start chain 3\n",
            "INFO:cmdstanpy:finish chain 2\n",
            "INFO:cmdstanpy:start chain 4\n",
            "INFO:cmdstanpy:finish chain 3\n",
            "INFO:cmdstanpy:finish chain 4\n"
          ],
          "name": "stderr"
        },
        {
          "output_type": "execute_result",
          "data": {
            "text/html": [
              "<div>\n",
              "<style scoped>\n",
              "    .dataframe tbody tr th:only-of-type {\n",
              "        vertical-align: middle;\n",
              "    }\n",
              "\n",
              "    .dataframe tbody tr th {\n",
              "        vertical-align: top;\n",
              "    }\n",
              "\n",
              "    .dataframe thead th {\n",
              "        text-align: right;\n",
              "    }\n",
              "</style>\n",
              "<table border=\"1\" class=\"dataframe\">\n",
              "  <thead>\n",
              "    <tr style=\"text-align: right;\">\n",
              "      <th></th>\n",
              "      <th>Mean</th>\n",
              "      <th>MCSE</th>\n",
              "      <th>StdDev</th>\n",
              "      <th>5%</th>\n",
              "      <th>50%</th>\n",
              "      <th>95%</th>\n",
              "      <th>N_Eff</th>\n",
              "      <th>N_Eff/s</th>\n",
              "      <th>R_hat</th>\n",
              "    </tr>\n",
              "    <tr>\n",
              "      <th>name</th>\n",
              "      <th></th>\n",
              "      <th></th>\n",
              "      <th></th>\n",
              "      <th></th>\n",
              "      <th></th>\n",
              "      <th></th>\n",
              "      <th></th>\n",
              "      <th></th>\n",
              "      <th></th>\n",
              "    </tr>\n",
              "  </thead>\n",
              "  <tbody>\n",
              "    <tr>\n",
              "      <th>lp__</th>\n",
              "      <td>-895.75900</td>\n",
              "      <td>0.024281</td>\n",
              "      <td>1.002590</td>\n",
              "      <td>-897.82200</td>\n",
              "      <td>-895.43400</td>\n",
              "      <td>-894.7940</td>\n",
              "      <td>1705.02</td>\n",
              "      <td>10440.4</td>\n",
              "      <td>1.001940</td>\n",
              "    </tr>\n",
              "    <tr>\n",
              "      <th>mu</th>\n",
              "      <td>154.60600</td>\n",
              "      <td>0.006984</td>\n",
              "      <td>0.414337</td>\n",
              "      <td>153.91500</td>\n",
              "      <td>154.60600</td>\n",
              "      <td>155.2920</td>\n",
              "      <td>3520.00</td>\n",
              "      <td>21554.2</td>\n",
              "      <td>1.000320</td>\n",
              "    </tr>\n",
              "    <tr>\n",
              "      <th>sigma</th>\n",
              "      <td>7.76938</td>\n",
              "      <td>0.004802</td>\n",
              "      <td>0.297174</td>\n",
              "      <td>7.28377</td>\n",
              "      <td>7.76599</td>\n",
              "      <td>8.2795</td>\n",
              "      <td>3830.36</td>\n",
              "      <td>23454.7</td>\n",
              "      <td>0.999638</td>\n",
              "    </tr>\n",
              "  </tbody>\n",
              "</table>\n",
              "</div>"
            ],
            "text/plain": [
              "            Mean      MCSE    StdDev  ...    N_Eff  N_Eff/s     R_hat\n",
              "name                                  ...                            \n",
              "lp__  -895.75900  0.024281  1.002590  ...  1705.02  10440.4  1.001940\n",
              "mu     154.60600  0.006984  0.414337  ...  3520.00  21554.2  1.000320\n",
              "sigma    7.76938  0.004802  0.297174  ...  3830.36  23454.7  0.999638\n",
              "\n",
              "[3 rows x 9 columns]"
            ]
          },
          "metadata": {
            "tags": []
          },
          "execution_count": 44
        }
      ]
    }
  ]
}