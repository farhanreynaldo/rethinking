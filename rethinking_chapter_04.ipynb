{
  "nbformat": 4,
  "nbformat_minor": 0,
  "metadata": {
    "colab": {
      "name": "rethinking-chapter-04.ipynb",
      "provenance": [],
      "collapsed_sections": [],
      "authorship_tag": "ABX9TyNhp3iuPQfaSi06szXOlGvh",
      "include_colab_link": true
    },
    "kernelspec": {
      "name": "python3",
      "display_name": "Python 3"
    }
  },
  "cells": [
    {
      "cell_type": "markdown",
      "metadata": {
        "id": "view-in-github",
        "colab_type": "text"
      },
      "source": [
        "<a href=\"https://colab.research.google.com/github/farhanreynaldo/rethinking/blob/master/rethinking_chapter_04.ipynb\" target=\"_parent\"><img src=\"https://colab.research.google.com/assets/colab-badge.svg\" alt=\"Open In Colab\"/></a>"
      ]
    },
    {
      "cell_type": "code",
      "metadata": {
        "id": "ukALDhI0HZEh",
        "colab_type": "code",
        "colab": {}
      },
      "source": [
        "# Load packages used in this notebook\n",
        "import os\n",
        "import json\n",
        "import shutil\n",
        "import urllib.request\n",
        "import pandas as pd"
      ],
      "execution_count": 1,
      "outputs": []
    },
    {
      "cell_type": "code",
      "metadata": {
        "id": "suIs4R9PGbK7",
        "colab_type": "code",
        "colab": {
          "base_uri": "https://localhost:8080/",
          "height": 150
        },
        "outputId": "fd00c097-c5b7-4cca-9517-c34a2b00151c"
      },
      "source": [
        "# Install package CmdStanPy\n",
        "!pip install --upgrade cmdstanpy"
      ],
      "execution_count": 2,
      "outputs": [
        {
          "output_type": "stream",
          "text": [
            "Requirement already up-to-date: cmdstanpy in /usr/local/lib/python3.6/dist-packages (0.9.62)\n",
            "Requirement already satisfied, skipping upgrade: numpy in /usr/local/lib/python3.6/dist-packages (from cmdstanpy) (1.18.5)\n",
            "Requirement already satisfied, skipping upgrade: pandas in /usr/local/lib/python3.6/dist-packages (from cmdstanpy) (1.0.5)\n",
            "Requirement already satisfied, skipping upgrade: python-dateutil>=2.6.1 in /usr/local/lib/python3.6/dist-packages (from pandas->cmdstanpy) (2.8.1)\n",
            "Requirement already satisfied, skipping upgrade: pytz>=2017.2 in /usr/local/lib/python3.6/dist-packages (from pandas->cmdstanpy) (2018.9)\n",
            "Requirement already satisfied, skipping upgrade: six>=1.5 in /usr/local/lib/python3.6/dist-packages (from python-dateutil>=2.6.1->pandas->cmdstanpy) (1.15.0)\n"
          ],
          "name": "stdout"
        }
      ]
    },
    {
      "cell_type": "code",
      "metadata": {
        "id": "YzZERvyOHjGO",
        "colab_type": "code",
        "colab": {}
      },
      "source": [
        "# Install pre-built CmdStan binary\n",
        "# (faster than compiling from source via install_cmdstan() function)\n",
        "# https://mc-stan.org/users/documentation/case-studies/jupyter_colab_notebooks_2020.html\n",
        "# https://github.com/stan-dev/example-models/blob/master/knitr/cloud-compute-2020/CmdStanPy_Example_Notebook.ipynb\n",
        "\n",
        "tgz_file = 'colab-cmdstan-2.23.0.tar.gz'\n",
        "tgz_url = 'https://github.com/stan-dev/cmdstan/releases/download/v2.23.0/colab-cmdstan-2.23.0.tar.gz'\n",
        "\n",
        "urllib.request.urlretrieve(tgz_url, tgz_file)\n",
        "shutil.unpack_archive(tgz_file)\n",
        "\n",
        "# Specify CmdStan location via environment variable\n",
        "os.environ['CMDSTAN'] = './cmdstan-2.23.0'"
      ],
      "execution_count": 3,
      "outputs": []
    },
    {
      "cell_type": "code",
      "metadata": {
        "id": "C51WqgRyHiUD",
        "colab_type": "code",
        "colab": {
          "base_uri": "https://localhost:8080/",
          "height": 36
        },
        "outputId": "bd47f3a5-d5fc-4c92-b24b-f29bae5a85e3"
      },
      "source": [
        "# Check CmdStan path\n",
        "from cmdstanpy import cmdstan_path\n",
        "cmdstan_path()"
      ],
      "execution_count": 4,
      "outputs": [
        {
          "output_type": "execute_result",
          "data": {
            "application/vnd.google.colaboratory.intrinsic+json": {
              "type": "string"
            },
            "text/plain": [
              "'./cmdstan-2.23.0'"
            ]
          },
          "metadata": {
            "tags": []
          },
          "execution_count": 4
        }
      ]
    },
    {
      "cell_type": "code",
      "metadata": {
        "id": "23SdeLWfGKR9",
        "colab_type": "code",
        "colab": {}
      },
      "source": [
        "import matplotlib.pyplot as plt\n",
        "import numpy as np\n",
        "import pandas as pd\n",
        "from cmdstanpy import CmdStanModel"
      ],
      "execution_count": 5,
      "outputs": []
    },
    {
      "cell_type": "code",
      "metadata": {
        "id": "yLa3UQgoISjL",
        "colab_type": "code",
        "colab": {}
      },
      "source": [
        "howell1_url = 'https://raw.githubusercontent.com/pymc-devs/resources/master/Rethinking_2/Data/Howell1.csv'\n",
        "df = pd.read_csv(howell1_url, sep=';', header=0).loc[lambda df: df['age'] >= 18]"
      ],
      "execution_count": 6,
      "outputs": []
    },
    {
      "cell_type": "code",
      "metadata": {
        "id": "zVS7buLxVdAv",
        "colab_type": "code",
        "colab": {}
      },
      "source": [
        "data = df.filter(['height', 'weight']).to_dict(orient='list')\n",
        "data['n'] = df.shape[0]"
      ],
      "execution_count": 21,
      "outputs": []
    },
    {
      "cell_type": "code",
      "metadata": {
        "id": "oonbqvWQR5TS",
        "colab_type": "code",
        "colab": {
          "base_uri": "https://localhost:8080/",
          "height": 36
        },
        "outputId": "f87cd627-2496-4ee1-8e75-1fbe79f82402"
      },
      "source": [
        "%%file m41.stan\n",
        "\n",
        "data {\n",
        "  int<lower=1> n;\n",
        "  vector[n] height;\n",
        "}\n",
        "parameters {\n",
        "  real mu;\n",
        "  real<lower=0,upper=50> sigma;\n",
        "}\n",
        "model {\n",
        "  height ~ normal(mu, sigma);\n",
        "  sigma ~ uniform(0, 50);\n",
        "  mu ~ normal(178, 20);\n",
        "}"
      ],
      "execution_count": 22,
      "outputs": [
        {
          "output_type": "stream",
          "text": [
            "Overwriting m41.stan\n"
          ],
          "name": "stdout"
        }
      ]
    },
    {
      "cell_type": "code",
      "metadata": {
        "id": "nqxazF62UO_N",
        "colab_type": "code",
        "colab": {
          "base_uri": "https://localhost:8080/",
          "height": 382
        },
        "outputId": "c65b9362-6646-40be-8ee2-48e443ca9aee"
      },
      "source": [
        "m41 = CmdStanModel(stan_file='m41.stan')\n",
        "m41_fit = m41.sample(data=data)\n",
        "m41_fit.summary()"
      ],
      "execution_count": 23,
      "outputs": [
        {
          "output_type": "stream",
          "text": [
            "INFO:cmdstanpy:compiling stan program, exe file: /content/m41\n",
            "INFO:cmdstanpy:compiler options: stanc_options=None, cpp_options=None\n",
            "INFO:cmdstanpy:compiled model file: /content/m41\n",
            "INFO:cmdstanpy:start chain 1\n",
            "INFO:cmdstanpy:start chain 2\n",
            "INFO:cmdstanpy:finish chain 1\n",
            "INFO:cmdstanpy:start chain 3\n",
            "INFO:cmdstanpy:finish chain 2\n",
            "INFO:cmdstanpy:start chain 4\n",
            "INFO:cmdstanpy:finish chain 3\n",
            "INFO:cmdstanpy:finish chain 4\n"
          ],
          "name": "stderr"
        },
        {
          "output_type": "execute_result",
          "data": {
            "text/html": [
              "<div>\n",
              "<style scoped>\n",
              "    .dataframe tbody tr th:only-of-type {\n",
              "        vertical-align: middle;\n",
              "    }\n",
              "\n",
              "    .dataframe tbody tr th {\n",
              "        vertical-align: top;\n",
              "    }\n",
              "\n",
              "    .dataframe thead th {\n",
              "        text-align: right;\n",
              "    }\n",
              "</style>\n",
              "<table border=\"1\" class=\"dataframe\">\n",
              "  <thead>\n",
              "    <tr style=\"text-align: right;\">\n",
              "      <th></th>\n",
              "      <th>Mean</th>\n",
              "      <th>MCSE</th>\n",
              "      <th>StdDev</th>\n",
              "      <th>5%</th>\n",
              "      <th>50%</th>\n",
              "      <th>95%</th>\n",
              "      <th>N_Eff</th>\n",
              "      <th>N_Eff/s</th>\n",
              "      <th>R_hat</th>\n",
              "    </tr>\n",
              "    <tr>\n",
              "      <th>name</th>\n",
              "      <th></th>\n",
              "      <th></th>\n",
              "      <th></th>\n",
              "      <th></th>\n",
              "      <th></th>\n",
              "      <th></th>\n",
              "      <th></th>\n",
              "      <th></th>\n",
              "      <th></th>\n",
              "    </tr>\n",
              "  </thead>\n",
              "  <tbody>\n",
              "    <tr>\n",
              "      <th>lp__</th>\n",
              "      <td>-895.69700</td>\n",
              "      <td>0.022432</td>\n",
              "      <td>0.947414</td>\n",
              "      <td>-897.55800</td>\n",
              "      <td>-895.41000</td>\n",
              "      <td>-894.79000</td>\n",
              "      <td>1783.71</td>\n",
              "      <td>11133.9</td>\n",
              "      <td>1.00059</td>\n",
              "    </tr>\n",
              "    <tr>\n",
              "      <th>mu</th>\n",
              "      <td>154.61400</td>\n",
              "      <td>0.006524</td>\n",
              "      <td>0.404907</td>\n",
              "      <td>153.96200</td>\n",
              "      <td>154.60800</td>\n",
              "      <td>155.28300</td>\n",
              "      <td>3851.92</td>\n",
              "      <td>24043.7</td>\n",
              "      <td>1.00017</td>\n",
              "    </tr>\n",
              "    <tr>\n",
              "      <th>sigma</th>\n",
              "      <td>7.77025</td>\n",
              "      <td>0.004665</td>\n",
              "      <td>0.286078</td>\n",
              "      <td>7.31543</td>\n",
              "      <td>7.76128</td>\n",
              "      <td>8.24665</td>\n",
              "      <td>3761.24</td>\n",
              "      <td>23477.7</td>\n",
              "      <td>1.00044</td>\n",
              "    </tr>\n",
              "  </tbody>\n",
              "</table>\n",
              "</div>"
            ],
            "text/plain": [
              "            Mean      MCSE    StdDev  ...    N_Eff  N_Eff/s    R_hat\n",
              "name                                  ...                           \n",
              "lp__  -895.69700  0.022432  0.947414  ...  1783.71  11133.9  1.00059\n",
              "mu     154.61400  0.006524  0.404907  ...  3851.92  24043.7  1.00017\n",
              "sigma    7.77025  0.004665  0.286078  ...  3761.24  23477.7  1.00044\n",
              "\n",
              "[3 rows x 9 columns]"
            ]
          },
          "metadata": {
            "tags": []
          },
          "execution_count": 23
        }
      ]
    },
    {
      "cell_type": "code",
      "metadata": {
        "id": "7mMd-dCQXydN",
        "colab_type": "code",
        "colab": {
          "base_uri": "https://localhost:8080/",
          "height": 36
        },
        "outputId": "6984371d-46fc-431f-b35a-0d4778d9b4fa"
      },
      "source": [
        "%%file m42.stan\n",
        "\n",
        "data {\n",
        "  int<lower=1> n;\n",
        "  vector[n] height;\n",
        "}\n",
        "\n",
        "parameters {\n",
        "  real mu;\n",
        "  real<lower=0, upper=50> sigma;\n",
        "}\n",
        "\n",
        "model {\n",
        "  height ~ normal(mu, sigma);\n",
        "  sigma ~ uniform(0, 50);\n",
        "  mu ~ normal(178, .1);\n",
        "}"
      ],
      "execution_count": 24,
      "outputs": [
        {
          "output_type": "stream",
          "text": [
            "Overwriting m42.stan\n"
          ],
          "name": "stdout"
        }
      ]
    },
    {
      "cell_type": "code",
      "metadata": {
        "id": "MQ5P5ogwX3Q1",
        "colab_type": "code",
        "colab": {
          "base_uri": "https://localhost:8080/",
          "height": 382
        },
        "outputId": "27d61184-c4cf-46b2-b22d-ff68f74d01be"
      },
      "source": [
        "m42 = CmdStanModel(stan_file='m42.stan')\n",
        "m42_fit = m42.sample(data=data)\n",
        "m42_fit.summary()"
      ],
      "execution_count": 25,
      "outputs": [
        {
          "output_type": "stream",
          "text": [
            "INFO:cmdstanpy:compiling stan program, exe file: /content/m42\n",
            "INFO:cmdstanpy:compiler options: stanc_options=None, cpp_options=None\n",
            "INFO:cmdstanpy:compiled model file: /content/m42\n",
            "INFO:cmdstanpy:start chain 1\n",
            "INFO:cmdstanpy:start chain 2\n",
            "INFO:cmdstanpy:finish chain 2\n",
            "INFO:cmdstanpy:start chain 3\n",
            "INFO:cmdstanpy:finish chain 1\n",
            "INFO:cmdstanpy:start chain 4\n",
            "INFO:cmdstanpy:finish chain 4\n",
            "INFO:cmdstanpy:finish chain 3\n"
          ],
          "name": "stderr"
        },
        {
          "output_type": "execute_result",
          "data": {
            "text/html": [
              "<div>\n",
              "<style scoped>\n",
              "    .dataframe tbody tr th:only-of-type {\n",
              "        vertical-align: middle;\n",
              "    }\n",
              "\n",
              "    .dataframe tbody tr th {\n",
              "        vertical-align: top;\n",
              "    }\n",
              "\n",
              "    .dataframe thead th {\n",
              "        text-align: right;\n",
              "    }\n",
              "</style>\n",
              "<table border=\"1\" class=\"dataframe\">\n",
              "  <thead>\n",
              "    <tr style=\"text-align: right;\">\n",
              "      <th></th>\n",
              "      <th>Mean</th>\n",
              "      <th>MCSE</th>\n",
              "      <th>StdDev</th>\n",
              "      <th>5%</th>\n",
              "      <th>50%</th>\n",
              "      <th>95%</th>\n",
              "      <th>N_Eff</th>\n",
              "      <th>N_Eff/s</th>\n",
              "      <th>R_hat</th>\n",
              "    </tr>\n",
              "    <tr>\n",
              "      <th>name</th>\n",
              "      <th></th>\n",
              "      <th></th>\n",
              "      <th></th>\n",
              "      <th></th>\n",
              "      <th></th>\n",
              "      <th></th>\n",
              "      <th></th>\n",
              "      <th></th>\n",
              "      <th></th>\n",
              "    </tr>\n",
              "  </thead>\n",
              "  <tbody>\n",
              "    <tr>\n",
              "      <th>lp__</th>\n",
              "      <td>-1301.6300</td>\n",
              "      <td>0.023368</td>\n",
              "      <td>1.027400</td>\n",
              "      <td>-1303.740</td>\n",
              "      <td>-1301.310</td>\n",
              "      <td>-1300.6400</td>\n",
              "      <td>1933.09</td>\n",
              "      <td>12449.8</td>\n",
              "      <td>1.002110</td>\n",
              "    </tr>\n",
              "    <tr>\n",
              "      <th>mu</th>\n",
              "      <td>177.8620</td>\n",
              "      <td>0.001557</td>\n",
              "      <td>0.101150</td>\n",
              "      <td>177.696</td>\n",
              "      <td>177.863</td>\n",
              "      <td>178.0270</td>\n",
              "      <td>4219.71</td>\n",
              "      <td>27176.4</td>\n",
              "      <td>0.999814</td>\n",
              "    </tr>\n",
              "    <tr>\n",
              "      <th>sigma</th>\n",
              "      <td>24.6218</td>\n",
              "      <td>0.016821</td>\n",
              "      <td>0.961026</td>\n",
              "      <td>23.114</td>\n",
              "      <td>24.595</td>\n",
              "      <td>26.2786</td>\n",
              "      <td>3264.05</td>\n",
              "      <td>21021.6</td>\n",
              "      <td>0.999616</td>\n",
              "    </tr>\n",
              "  </tbody>\n",
              "</table>\n",
              "</div>"
            ],
            "text/plain": [
              "            Mean      MCSE    StdDev  ...    N_Eff  N_Eff/s     R_hat\n",
              "name                                  ...                            \n",
              "lp__  -1301.6300  0.023368  1.027400  ...  1933.09  12449.8  1.002110\n",
              "mu      177.8620  0.001557  0.101150  ...  4219.71  27176.4  0.999814\n",
              "sigma    24.6218  0.016821  0.961026  ...  3264.05  21021.6  0.999616\n",
              "\n",
              "[3 rows x 9 columns]"
            ]
          },
          "metadata": {
            "tags": []
          },
          "execution_count": 25
        }
      ]
    },
    {
      "cell_type": "code",
      "metadata": {
        "id": "2F7vyDSXZamO",
        "colab_type": "code",
        "colab": {
          "base_uri": "https://localhost:8080/",
          "height": 36
        },
        "outputId": "1215906a-b61d-47c7-ca44-73392a5c9b80"
      },
      "source": [
        "%%file m43.stan\n",
        "\n",
        "data {\n",
        "    int<lower=1> n;\n",
        "    real xbar;\n",
        "    vector[n] height;\n",
        "    vector[n] weight;\n",
        "}\n",
        "\n",
        "parameters {\n",
        "    real a;\n",
        "    real<lower=0> b;\n",
        "    real<lower=0, upper=50> sigma;\n",
        "}\n",
        "\n",
        "model {\n",
        "    vector[n] mu;\n",
        "    mu = a + b * (weight - xbar);\n",
        "    height ~ normal(mu, sigma);\n",
        "    a ~ normal(178, 20);\n",
        "    b ~ lognormal(0, 1);\n",
        "    sigma ~ uniform(0, 50);\n",
        "}"
      ],
      "execution_count": 26,
      "outputs": [
        {
          "output_type": "stream",
          "text": [
            "Writing m43.stan\n"
          ],
          "name": "stdout"
        }
      ]
    },
    {
      "cell_type": "code",
      "metadata": {
        "id": "qzThd9rge6CI",
        "colab_type": "code",
        "colab": {
          "base_uri": "https://localhost:8080/",
          "height": 414
        },
        "outputId": "2a149208-b1e5-4c17-8bbc-2e4ff7993fdc"
      },
      "source": [
        "data['xbar'] = df['weight'].mean()\n",
        "\n",
        "m43 = CmdStanModel(stan_file='m43.stan')\n",
        "m43_fit = m43.sample(data=data)\n",
        "m43_fit.summary()"
      ],
      "execution_count": 27,
      "outputs": [
        {
          "output_type": "stream",
          "text": [
            "INFO:cmdstanpy:compiling stan program, exe file: /content/m43\n",
            "INFO:cmdstanpy:compiler options: stanc_options=None, cpp_options=None\n",
            "INFO:cmdstanpy:compiled model file: /content/m43\n",
            "INFO:cmdstanpy:start chain 1\n",
            "INFO:cmdstanpy:start chain 2\n",
            "INFO:cmdstanpy:finish chain 1\n",
            "INFO:cmdstanpy:start chain 3\n",
            "INFO:cmdstanpy:finish chain 2\n",
            "INFO:cmdstanpy:start chain 4\n",
            "INFO:cmdstanpy:finish chain 3\n",
            "INFO:cmdstanpy:finish chain 4\n"
          ],
          "name": "stderr"
        },
        {
          "output_type": "execute_result",
          "data": {
            "text/html": [
              "<div>\n",
              "<style scoped>\n",
              "    .dataframe tbody tr th:only-of-type {\n",
              "        vertical-align: middle;\n",
              "    }\n",
              "\n",
              "    .dataframe tbody tr th {\n",
              "        vertical-align: top;\n",
              "    }\n",
              "\n",
              "    .dataframe thead th {\n",
              "        text-align: right;\n",
              "    }\n",
              "</style>\n",
              "<table border=\"1\" class=\"dataframe\">\n",
              "  <thead>\n",
              "    <tr style=\"text-align: right;\">\n",
              "      <th></th>\n",
              "      <th>Mean</th>\n",
              "      <th>MCSE</th>\n",
              "      <th>StdDev</th>\n",
              "      <th>5%</th>\n",
              "      <th>50%</th>\n",
              "      <th>95%</th>\n",
              "      <th>N_Eff</th>\n",
              "      <th>N_Eff/s</th>\n",
              "      <th>R_hat</th>\n",
              "    </tr>\n",
              "    <tr>\n",
              "      <th>name</th>\n",
              "      <th></th>\n",
              "      <th></th>\n",
              "      <th></th>\n",
              "      <th></th>\n",
              "      <th></th>\n",
              "      <th></th>\n",
              "      <th></th>\n",
              "      <th></th>\n",
              "      <th></th>\n",
              "    </tr>\n",
              "  </thead>\n",
              "  <tbody>\n",
              "    <tr>\n",
              "      <th>lp__</th>\n",
              "      <td>-748.22800</td>\n",
              "      <td>0.026078</td>\n",
              "      <td>1.210370</td>\n",
              "      <td>-750.701000</td>\n",
              "      <td>-747.924000</td>\n",
              "      <td>-746.888000</td>\n",
              "      <td>2154.14</td>\n",
              "      <td>3169.21</td>\n",
              "      <td>1.001340</td>\n",
              "    </tr>\n",
              "    <tr>\n",
              "      <th>a</th>\n",
              "      <td>154.60300</td>\n",
              "      <td>0.004202</td>\n",
              "      <td>0.277368</td>\n",
              "      <td>154.148000</td>\n",
              "      <td>154.597000</td>\n",
              "      <td>155.074000</td>\n",
              "      <td>4356.57</td>\n",
              "      <td>6409.46</td>\n",
              "      <td>0.999353</td>\n",
              "    </tr>\n",
              "    <tr>\n",
              "      <th>b</th>\n",
              "      <td>0.90301</td>\n",
              "      <td>0.000693</td>\n",
              "      <td>0.042166</td>\n",
              "      <td>0.832069</td>\n",
              "      <td>0.903215</td>\n",
              "      <td>0.973593</td>\n",
              "      <td>3705.77</td>\n",
              "      <td>5451.98</td>\n",
              "      <td>0.999882</td>\n",
              "    </tr>\n",
              "    <tr>\n",
              "      <th>sigma</th>\n",
              "      <td>5.10748</td>\n",
              "      <td>0.002882</td>\n",
              "      <td>0.190696</td>\n",
              "      <td>4.806830</td>\n",
              "      <td>5.105560</td>\n",
              "      <td>5.427840</td>\n",
              "      <td>4377.79</td>\n",
              "      <td>6440.67</td>\n",
              "      <td>1.000070</td>\n",
              "    </tr>\n",
              "  </tbody>\n",
              "</table>\n",
              "</div>"
            ],
            "text/plain": [
              "            Mean      MCSE    StdDev  ...    N_Eff  N_Eff/s     R_hat\n",
              "name                                  ...                            \n",
              "lp__  -748.22800  0.026078  1.210370  ...  2154.14  3169.21  1.001340\n",
              "a      154.60300  0.004202  0.277368  ...  4356.57  6409.46  0.999353\n",
              "b        0.90301  0.000693  0.042166  ...  3705.77  5451.98  0.999882\n",
              "sigma    5.10748  0.002882  0.190696  ...  4377.79  6440.67  1.000070\n",
              "\n",
              "[4 rows x 9 columns]"
            ]
          },
          "metadata": {
            "tags": []
          },
          "execution_count": 27
        }
      ]
    },
    {
      "cell_type": "code",
      "metadata": {
        "id": "VovKfwm8fGBQ",
        "colab_type": "code",
        "colab": {
          "base_uri": "https://localhost:8080/",
          "height": 55
        },
        "outputId": "e38719a1-1f6c-4494-88bb-5dc4ae33aa14"
      },
      "source": [
        "m41.code()"
      ],
      "execution_count": 28,
      "outputs": [
        {
          "output_type": "execute_result",
          "data": {
            "application/vnd.google.colaboratory.intrinsic+json": {
              "type": "string"
            },
            "text/plain": [
              "'\\ndata {\\n  int<lower=1> n;\\n  vector[n] height;\\n}\\nparameters {\\n  real mu;\\n  real<lower=0,upper=50> sigma;\\n}\\nmodel {\\n  height ~ normal(mu, sigma);\\n  sigma ~ uniform(0, 50);\\n  mu ~ normal(178, 20);\\n}'"
            ]
          },
          "metadata": {
            "tags": []
          },
          "execution_count": 28
        }
      ]
    },
    {
      "cell_type": "code",
      "metadata": {
        "id": "8ARe93Zafrxb",
        "colab_type": "code",
        "colab": {}
      },
      "source": [
        ""
      ],
      "execution_count": null,
      "outputs": []
    }
  ]
}